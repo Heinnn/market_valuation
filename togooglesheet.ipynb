{
 "cells": [
  {
   "cell_type": "code",
   "execution_count": 3,
   "metadata": {},
   "outputs": [],
   "source": [
    "import gspread\n",
    "from oauth2client.service_account import ServiceAccountCredentials\n",
    "from datetime import datetime\n",
    "\n",
    "# Setup the Google Sheets API client\n",
    "scope = [\"https://spreadsheets.google.com/feeds\", \"https://www.googleapis.com/auth/drive\"]\n",
    "creds = ServiceAccountCredentials.from_json_keyfile_name('jitta-intel-dev-bf2d51598b86.json', scope)\n",
    "client = gspread.authorize(creds)\n",
    "\n",
    "# Data string\n",
    "data = \"\"\"2014-10-01T00:00:00.000Z 0.03514797442727047\n",
    "2015-10-01T00:00:00.000Z 0.08382339168799713\n",
    "2016-10-01T00:00:00.000Z 0.2788915067066573\n",
    "2017-10-01T00:00:00.000Z 0.035875500445650355\n",
    "2018-10-01T00:00:00.000Z -0.08378928395743446\n",
    "2019-10-01T00:00:00.000Z -0.10422462023501577\n",
    "2020-10-01T00:00:00.000Z 0.6505359435764599\n",
    "2021-10-01T00:00:00.000Z -0.15010136412876718\n",
    "2022-10-01T00:00:00.000Z 0.19079751268557787\n",
    "Error:\n",
    "2014-10-02T00:00:00.000Z 0.02820418641725353\n",
    "2015-10-02T00:00:00.000Z 0.07187181800815967\n",
    "2016-10-02T00:00:00.000Z 0.2835171561441121\"\"\"\n",
    "\n",
    "# Parsing the data\n",
    "lines = data.split('\\n')\n",
    "data_entries = []\n",
    "\n",
    "for line in lines:\n",
    "    if line.strip() and not line.startswith(\"Error:\"):\n",
    "        date_str, value_str = line.split()\n",
    "        date = datetime.strptime(date_str, \"%Y-%m-%dT%H:%M:%S.%fZ\")\n",
    "        value = float(value_str)\n",
    "        data_entries.append((date, value))\n",
    "\n",
    "# Function to get or create a sheet by name\n",
    "def get_or_create_sheet(sheet_name):\n",
    "    try:\n",
    "        sheet = client.open('USrby').worksheet(sheet_name)\n",
    "    except gspread.exceptions.WorksheetNotFound:\n",
    "        sheet = client.open('USrby').add_worksheet(title=sheet_name, rows=\"100\", cols=\"2\")\n",
    "    return sheet\n",
    "\n",
    "# Appending data to the respective sheets\n",
    "for date, value in data_entries:\n",
    "    sheet_name = f\"{date.month}-{date.day}\"\n",
    "    sheet = get_or_create_sheet(sheet_name)\n",
    "    sheet.append_row([date.isoformat(), value])\n"
   ]
  }
 ],
 "metadata": {
  "kernelspec": {
   "display_name": "market_valuation-IvGVmgtZ",
   "language": "python",
   "name": "python3"
  },
  "language_info": {
   "codemirror_mode": {
    "name": "ipython",
    "version": 3
   },
   "file_extension": ".py",
   "mimetype": "text/x-python",
   "name": "python",
   "nbconvert_exporter": "python",
   "pygments_lexer": "ipython3",
   "version": "3.9.12"
  }
 },
 "nbformat": 4,
 "nbformat_minor": 2
}
